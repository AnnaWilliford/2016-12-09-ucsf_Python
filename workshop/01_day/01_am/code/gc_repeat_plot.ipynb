{
 "cells": [
  {
   "cell_type": "code",
   "execution_count": 2,
   "metadata": {
    "collapsed": true
   },
   "outputs": [],
   "source": [
    "# import library\n",
    "import pandas as pd\n",
    "import matplotlib.pyplot as plt\n",
    "import statsmodels.formula.api as smf\n",
    "import sys"
   ]
  },
  {
   "cell_type": "code",
   "execution_count": 3,
   "metadata": {
    "collapsed": true
   },
   "outputs": [],
   "source": [
    "# read data from our txt file\n",
    "chr_data = pd.read_csv(sys.argv[1], sep='\\t')\n",
    "print(sys.argv[1])"
   ]
  },
  {
   "cell_type": "code",
   "execution_count": 5,
   "metadata": {
    "collapsed": true
   },
   "outputs": [],
   "source": [
    "# calculate GC content per window\n",
    "chr_data['gc_content'] = chr_data['gc_bases'] / (chr_data['win_end'] - chr_data['win_start'])"
   ]
  },
  {
   "cell_type": "code",
   "execution_count": 6,
   "metadata": {
    "collapsed": true
   },
   "outputs": [],
   "source": [
    "# calculate complex repeat content per window\n",
    "chr_data['repeat_content'] = chr_data['complex_rep_bases'] / \\\n",
    "(chr_data['win_end'] - chr_data['win_start'])"
   ]
  },
  {
   "cell_type": "code",
   "execution_count": null,
   "metadata": {
    "collapsed": true
   },
   "outputs": [],
   "source": [
    "lm = smf.ols(formula='gc_content ~ repeat_content', data=chr_data).fit()"
   ]
  },
  {
   "cell_type": "code",
   "execution_count": 9,
   "metadata": {
    "collapsed": false
   },
   "outputs": [],
   "source": [
    "# plot the result, saving to appropriate file\n",
    "plt.plot(chr_data['repeat_content'], chr_data['gc_content'], 'ok')\n",
    "plt.plot(chr_data['repeat_content'].dropna(), lm.fittedvalues, 'b')\n",
    "plt.xlabel('Proportion Repeat Content')\n",
    "plt.ylabel('Proportion GC Content')\n",
    "plt.title('Are repetitive regions GC rich?')\n",
    "plt.savefig(''.join([sys.argv[1], '.png']))"
   ]
  }
 ],
 "metadata": {
  "kernelspec": {
   "display_name": "Python 3",
   "language": "python",
   "name": "python3"
  },
  "language_info": {
   "codemirror_mode": {
    "name": "ipython",
    "version": 3
   },
   "file_extension": ".py",
   "mimetype": "text/x-python",
   "name": "python",
   "nbconvert_exporter": "python",
   "pygments_lexer": "ipython3",
   "version": "3.5.2"
  }
 },
 "nbformat": 4,
 "nbformat_minor": 1
}
