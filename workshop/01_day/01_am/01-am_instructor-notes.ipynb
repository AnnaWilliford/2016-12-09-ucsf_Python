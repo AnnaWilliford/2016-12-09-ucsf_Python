{
 "cells": [
  {
   "cell_type": "markdown",
   "metadata": {},
   "source": [
    "# Introduction to Python\n",
    "\n",
    "## Starting in Excel\n",
    "1. Download dataset: [https://github.com/darencard/2016-12-09-ucsf_Python/blob/gh-pages/workshop/01_day/01_am/data/human_chr21_broken.xlsx?raw=true](https://github.com/darencard/2016-12-09-ucsf_Python/blob/gh-pages/workshop/01_day/01_am/data/human_chr21_broken.xlsx?raw=true)\n",
    "2. Open in Excel\n",
    "3. Examine and correct issues:\n",
    "        1. 0:1-2 - both headers are 'window', but should be 'win_start' and 'win_end'\n",
    "        2. 2:5-7 - various encodings of missing data, standardize to 'NA'\n",
    "        3. 9:3 - 0 (the number) encoded as O (the letter)\n",
    "        4. 15:0 - should be 'chr1' instead of 'chr_1'\n",
    "        5. 2,14:8 - spurious commment that should be deleted\n",
    "        6. 22:3 - spurious comment that should be deleted\n",
    "4. `File` -> `Save As` -> `human_chr21.txt` as `Tab Delimited Text (.txt)` at `~/Desktop/swc_dec2016`"
   ]
  },
  {
   "cell_type": "markdown",
   "metadata": {},
   "source": [
    "## Getting Started with Python and Jupyter Notebooks\n",
    "1. In Terminal\n",
    "```shell\n",
    "jupyter notebook\n",
    "```\n",
    "2. Navigate to `~/Desktop/swc_dec2016`\n",
    "3. New notebook: `New` -> `Notebooks` -> `Python 3`\n",
    "4. Save as: `day1_python_intro`\n",
    "5. Highlight buttons in GUI\n"
   ]
  },
  {
   "cell_type": "markdown",
   "metadata": {},
   "source": [
    "## Introduction to Python built-in data types\n",
    "\n",
    "### Strings, integers and floats"
   ]
  },
  {
   "cell_type": "code",
   "execution_count": 1,
   "metadata": {
    "collapsed": true
   },
   "outputs": [],
   "source": [
    "text = \"Data Carpentry\"\n",
    "number = 42\n",
    "pi_value = 3.1415"
   ]
  },
  {
   "cell_type": "code",
   "execution_count": 2,
   "metadata": {
    "collapsed": false
   },
   "outputs": [
    {
     "data": {
      "text/plain": [
       "'Data Carpentry'"
      ]
     },
     "execution_count": 2,
     "metadata": {},
     "output_type": "execute_result"
    }
   ],
   "source": [
    "text"
   ]
  },
  {
   "cell_type": "code",
   "execution_count": 4,
   "metadata": {
    "collapsed": false
   },
   "outputs": [
    {
     "name": "stdout",
     "output_type": "stream",
     "text": [
      "Data Carpentry\n"
     ]
    }
   ],
   "source": [
    "# Comments start with #\n",
    "# Next line will print out text\n",
    "print(text)"
   ]
  },
  {
   "cell_type": "markdown",
   "metadata": {},
   "source": [
    "### Operators\n",
    "#### Math"
   ]
  },
  {
   "cell_type": "code",
   "execution_count": 5,
   "metadata": {
    "collapsed": false
   },
   "outputs": [
    {
     "data": {
      "text/plain": [
       "4"
      ]
     },
     "execution_count": 5,
     "metadata": {},
     "output_type": "execute_result"
    }
   ],
   "source": [
    "2 + 2"
   ]
  },
  {
   "cell_type": "code",
   "execution_count": 6,
   "metadata": {
    "collapsed": false
   },
   "outputs": [
    {
     "data": {
      "text/plain": [
       "42"
      ]
     },
     "execution_count": 6,
     "metadata": {},
     "output_type": "execute_result"
    }
   ],
   "source": [
    "6 * 7"
   ]
  },
  {
   "cell_type": "code",
   "execution_count": 7,
   "metadata": {
    "collapsed": false
   },
   "outputs": [
    {
     "data": {
      "text/plain": [
       "65536"
      ]
     },
     "execution_count": 7,
     "metadata": {},
     "output_type": "execute_result"
    }
   ],
   "source": [
    "2 ** 16  # power"
   ]
  },
  {
   "cell_type": "code",
   "execution_count": 8,
   "metadata": {
    "collapsed": false
   },
   "outputs": [
    {
     "data": {
      "text/plain": [
       "3"
      ]
     },
     "execution_count": 8,
     "metadata": {},
     "output_type": "execute_result"
    }
   ],
   "source": [
    "13 % 5  # modulo"
   ]
  },
  {
   "cell_type": "markdown",
   "metadata": {},
   "source": [
    "#### \\~\\~Challenge\\~\\~\n",
    "1. Make variable `a` equal to `7`\n",
    "2. Make variable `b` equal to `13`\n",
    "3. Evaluate `a * 4 + b` and set as variable `c`\n",
    "4. print `c`"
   ]
  },
  {
   "cell_type": "code",
   "execution_count": 77,
   "metadata": {
    "collapsed": false
   },
   "outputs": [
    {
     "name": "stdout",
     "output_type": "stream",
     "text": [
      "41\n"
     ]
    }
   ],
   "source": [
    "a = 7\n",
    "b = 13\n",
    "c = a * 4 + b\n",
    "print(c)"
   ]
  },
  {
   "cell_type": "markdown",
   "metadata": {},
   "source": [
    "#### Logic"
   ]
  },
  {
   "cell_type": "code",
   "execution_count": 9,
   "metadata": {
    "collapsed": false
   },
   "outputs": [
    {
     "data": {
      "text/plain": [
       "False"
      ]
     },
     "execution_count": 9,
     "metadata": {},
     "output_type": "execute_result"
    }
   ],
   "source": [
    "3 > 4"
   ]
  },
  {
   "cell_type": "code",
   "execution_count": 10,
   "metadata": {
    "collapsed": false
   },
   "outputs": [
    {
     "data": {
      "text/plain": [
       "True"
      ]
     },
     "execution_count": 10,
     "metadata": {},
     "output_type": "execute_result"
    }
   ],
   "source": [
    "True and True"
   ]
  },
  {
   "cell_type": "code",
   "execution_count": 11,
   "metadata": {
    "collapsed": false
   },
   "outputs": [
    {
     "data": {
      "text/plain": [
       "True"
      ]
     },
     "execution_count": 11,
     "metadata": {},
     "output_type": "execute_result"
    }
   ],
   "source": [
    "True or False"
   ]
  },
  {
   "cell_type": "markdown",
   "metadata": {},
   "source": [
    "#### \\~\\~Challenge\\~\\~\n",
    "Check if variable `c` is equal to `54`"
   ]
  },
  {
   "cell_type": "code",
   "execution_count": 78,
   "metadata": {
    "collapsed": false
   },
   "outputs": [
    {
     "data": {
      "text/plain": [
       "False"
      ]
     },
     "execution_count": 78,
     "metadata": {},
     "output_type": "execute_result"
    }
   ],
   "source": [
    "c == 54"
   ]
  },
  {
   "cell_type": "markdown",
   "metadata": {},
   "source": [
    "### Sequential types: Lists and Tuples\n",
    "\n",
    "#### Lists"
   ]
  },
  {
   "cell_type": "code",
   "execution_count": 14,
   "metadata": {
    "collapsed": true
   },
   "outputs": [],
   "source": [
    "# lists are surrounded by []\n",
    "numbers = [1,2,3]"
   ]
  },
  {
   "cell_type": "code",
   "execution_count": 16,
   "metadata": {
    "collapsed": false
   },
   "outputs": [
    {
     "data": {
      "text/plain": [
       "2"
      ]
     },
     "execution_count": 16,
     "metadata": {},
     "output_type": "execute_result"
    }
   ],
   "source": [
    "# and can be subsetted/sliced by an index\n",
    "numbers[1]"
   ]
  },
  {
   "cell_type": "code",
   "execution_count": 18,
   "metadata": {
    "collapsed": false
   },
   "outputs": [
    {
     "name": "stdout",
     "output_type": "stream",
     "text": [
      "1\n",
      "2\n",
      "3\n"
     ]
    }
   ],
   "source": [
    "# we can easily loop over lists\n",
    "for num in numbers:\n",
    "    print(num)"
   ]
  },
  {
   "cell_type": "code",
   "execution_count": 19,
   "metadata": {
    "collapsed": false
   },
   "outputs": [
    {
     "name": "stdout",
     "output_type": "stream",
     "text": [
      "[1, 2, 3, 4]\n"
     ]
    }
   ],
   "source": [
    "# append to an existing list\n",
    "numbers.append(4)\n",
    "print(numbers)"
   ]
  },
  {
   "cell_type": "code",
   "execution_count": 20,
   "metadata": {
    "collapsed": false,
    "scrolled": true
   },
   "outputs": [
    {
     "name": "stdout",
     "output_type": "stream",
     "text": [
      "Help on list object:\n",
      "\n",
      "class list(object)\n",
      " |  list() -> new empty list\n",
      " |  list(iterable) -> new list initialized from iterable's items\n",
      " |  \n",
      " |  Methods defined here:\n",
      " |  \n",
      " |  __add__(self, value, /)\n",
      " |      Return self+value.\n",
      " |  \n",
      " |  __contains__(self, key, /)\n",
      " |      Return key in self.\n",
      " |  \n",
      " |  __delitem__(self, key, /)\n",
      " |      Delete self[key].\n",
      " |  \n",
      " |  __eq__(self, value, /)\n",
      " |      Return self==value.\n",
      " |  \n",
      " |  __ge__(self, value, /)\n",
      " |      Return self>=value.\n",
      " |  \n",
      " |  __getattribute__(self, name, /)\n",
      " |      Return getattr(self, name).\n",
      " |  \n",
      " |  __getitem__(...)\n",
      " |      x.__getitem__(y) <==> x[y]\n",
      " |  \n",
      " |  __gt__(self, value, /)\n",
      " |      Return self>value.\n",
      " |  \n",
      " |  __iadd__(self, value, /)\n",
      " |      Implement self+=value.\n",
      " |  \n",
      " |  __imul__(self, value, /)\n",
      " |      Implement self*=value.\n",
      " |  \n",
      " |  __init__(self, /, *args, **kwargs)\n",
      " |      Initialize self.  See help(type(self)) for accurate signature.\n",
      " |  \n",
      " |  __iter__(self, /)\n",
      " |      Implement iter(self).\n",
      " |  \n",
      " |  __le__(self, value, /)\n",
      " |      Return self<=value.\n",
      " |  \n",
      " |  __len__(self, /)\n",
      " |      Return len(self).\n",
      " |  \n",
      " |  __lt__(self, value, /)\n",
      " |      Return self<value.\n",
      " |  \n",
      " |  __mul__(self, value, /)\n",
      " |      Return self*value.n\n",
      " |  \n",
      " |  __ne__(self, value, /)\n",
      " |      Return self!=value.\n",
      " |  \n",
      " |  __new__(*args, **kwargs) from builtins.type\n",
      " |      Create and return a new object.  See help(type) for accurate signature.\n",
      " |  \n",
      " |  __repr__(self, /)\n",
      " |      Return repr(self).\n",
      " |  \n",
      " |  __reversed__(...)\n",
      " |      L.__reversed__() -- return a reverse iterator over the list\n",
      " |  \n",
      " |  __rmul__(self, value, /)\n",
      " |      Return self*value.\n",
      " |  \n",
      " |  __setitem__(self, key, value, /)\n",
      " |      Set self[key] to value.\n",
      " |  \n",
      " |  __sizeof__(...)\n",
      " |      L.__sizeof__() -- size of L in memory, in bytes\n",
      " |  \n",
      " |  append(...)\n",
      " |      L.append(object) -> None -- append object to end\n",
      " |  \n",
      " |  clear(...)\n",
      " |      L.clear() -> None -- remove all items from L\n",
      " |  \n",
      " |  copy(...)\n",
      " |      L.copy() -> list -- a shallow copy of L\n",
      " |  \n",
      " |  count(...)\n",
      " |      L.count(value) -> integer -- return number of occurrences of value\n",
      " |  \n",
      " |  extend(...)\n",
      " |      L.extend(iterable) -> None -- extend list by appending elements from the iterable\n",
      " |  \n",
      " |  index(...)\n",
      " |      L.index(value, [start, [stop]]) -> integer -- return first index of value.\n",
      " |      Raises ValueError if the value is not present.\n",
      " |  \n",
      " |  insert(...)\n",
      " |      L.insert(index, object) -- insert object before index\n",
      " |  \n",
      " |  pop(...)\n",
      " |      L.pop([index]) -> item -- remove and return item at index (default last).\n",
      " |      Raises IndexError if list is empty or index is out of range.\n",
      " |  \n",
      " |  remove(...)\n",
      " |      L.remove(value) -> None -- remove first occurrence of value.\n",
      " |      Raises ValueError if the value is not present.\n",
      " |  \n",
      " |  reverse(...)\n",
      " |      L.reverse() -- reverse *IN PLACE*\n",
      " |  \n",
      " |  sort(...)\n",
      " |      L.sort(key=None, reverse=False) -> None -- stable sort *IN PLACE*\n",
      " |  \n",
      " |  ----------------------------------------------------------------------\n",
      " |  Data and other attributes defined here:\n",
      " |  \n",
      " |  __hash__ = None\n",
      "\n"
     ]
    }
   ],
   "source": [
    "# lots of stuff we can do with different data object\n",
    "# use help(object/function) to get help\n",
    "help(numbers)"
   ]
  },
  {
   "cell_type": "markdown",
   "metadata": {},
   "source": [
    "**Can also get help in a few places online**\n",
    "1. Python documentation: [https://docs.python.org/3/](https://docs.python.org/3/)\n",
    "2. Stack overflow (use python tag): [http://stackoverflow.com/questions/tagged/python](http://stackoverflow.com/questions/tagged/python)\n",
    "\n",
    "**Also good to follow use best-practices styles when coding**\n",
    "1. Python style guide: [https://www.python.org/dev/peps/pep-0008/](https://www.python.org/dev/peps/pep-0008/)"
   ]
  },
  {
   "cell_type": "code",
   "execution_count": 21,
   "metadata": {
    "collapsed": false,
    "scrolled": true
   },
   "outputs": [
    {
     "data": {
      "text/plain": [
       "['__add__',\n",
       " '__class__',\n",
       " '__contains__',\n",
       " '__delattr__',\n",
       " '__delitem__',\n",
       " '__dir__',\n",
       " '__doc__',\n",
       " '__eq__',\n",
       " '__format__',\n",
       " '__ge__',\n",
       " '__getattribute__',\n",
       " '__getitem__',\n",
       " '__gt__',\n",
       " '__hash__',\n",
       " '__iadd__',\n",
       " '__imul__',\n",
       " '__init__',\n",
       " '__iter__',\n",
       " '__le__',\n",
       " '__len__',\n",
       " '__lt__',\n",
       " '__mul__',\n",
       " '__ne__',\n",
       " '__new__',\n",
       " '__reduce__',\n",
       " '__reduce_ex__',\n",
       " '__repr__',\n",
       " '__reversed__',\n",
       " '__rmul__',\n",
       " '__setattr__',\n",
       " '__setitem__',\n",
       " '__sizeof__',\n",
       " '__str__',\n",
       " '__subclasshook__',\n",
       " 'append',\n",
       " 'clear',\n",
       " 'copy',\n",
       " 'count',\n",
       " 'extend',\n",
       " 'index',\n",
       " 'insert',\n",
       " 'pop',\n",
       " 'remove',\n",
       " 'reverse',\n",
       " 'sort']"
      ]
     },
     "execution_count": 21,
     "metadata": {},
     "output_type": "execute_result"
    }
   ],
   "source": [
    "# can also see a list of methods available for a an object\n",
    "dir(numbers)"
   ]
  },
  {
   "cell_type": "markdown",
   "metadata": {},
   "source": [
    "#### Tuples"
   ]
  },
  {
   "cell_type": "code",
   "execution_count": 22,
   "metadata": {
    "collapsed": true
   },
   "outputs": [],
   "source": [
    "# tuples use parentheses\n",
    "a_tuple= (1,2,3)\n",
    "another_tuple = ('blue','green','red')"
   ]
  },
  {
   "cell_type": "code",
   "execution_count": 23,
   "metadata": {
    "collapsed": false
   },
   "outputs": [
    {
     "data": {
      "text/plain": [
       "(1, 2, 3)"
      ]
     },
     "execution_count": 23,
     "metadata": {},
     "output_type": "execute_result"
    }
   ],
   "source": [
    "a_tuple"
   ]
  },
  {
   "cell_type": "code",
   "execution_count": 24,
   "metadata": {
    "collapsed": false
   },
   "outputs": [
    {
     "data": {
      "text/plain": [
       "('blue', 'green', 'red')"
      ]
     },
     "execution_count": 24,
     "metadata": {},
     "output_type": "execute_result"
    }
   ],
   "source": [
    "another_tuple"
   ]
  },
  {
   "cell_type": "markdown",
   "metadata": {},
   "source": [
    "#### \\~\\~Challenge\\~\\~\n",
    "1. Create list `a_list = [1,2,3,4,5]`\n",
    "2. Create tuple `a_tuple = (1,2,3,4,5)`\n",
    "3. What happens when you type `a_tuple[2]=7`?\n",
    "4. What happens when you type `a_list[2]=7`?\n",
    "5. Explain what you are seeing."
   ]
  },
  {
   "cell_type": "code",
   "execution_count": 80,
   "metadata": {
    "collapsed": true
   },
   "outputs": [],
   "source": [
    "a_list = [1,2,3,4,5]\n",
    "a_tuple = (1,2,3,4,5)"
   ]
  },
  {
   "cell_type": "code",
   "execution_count": 81,
   "metadata": {
    "collapsed": false
   },
   "outputs": [
    {
     "ename": "TypeError",
     "evalue": "'tuple' object does not support item assignment",
     "output_type": "error",
     "traceback": [
      "\u001b[0;31m---------------------------------------------------------------------------\u001b[0m",
      "\u001b[0;31mTypeError\u001b[0m                                 Traceback (most recent call last)",
      "\u001b[0;32m<ipython-input-81-40003d96ca74>\u001b[0m in \u001b[0;36m<module>\u001b[0;34m()\u001b[0m\n\u001b[0;32m----> 1\u001b[0;31m \u001b[0ma_tuple\u001b[0m\u001b[0;34m[\u001b[0m\u001b[0;36m2\u001b[0m\u001b[0;34m]\u001b[0m\u001b[0;34m=\u001b[0m\u001b[0;36m7\u001b[0m\u001b[0;34m\u001b[0m\u001b[0m\n\u001b[0m",
      "\u001b[0;31mTypeError\u001b[0m: 'tuple' object does not support item assignment"
     ]
    }
   ],
   "source": [
    "a_tuple[2]=7"
   ]
  },
  {
   "cell_type": "code",
   "execution_count": 84,
   "metadata": {
    "collapsed": false
   },
   "outputs": [
    {
     "name": "stdout",
     "output_type": "stream",
     "text": [
      "[1, 2, 7, 4, 5]\n"
     ]
    }
   ],
   "source": [
    "a_list[2]=7\n",
    "print(a_list)\n",
    "# tuple is immutable, list isn't"
   ]
  },
  {
   "cell_type": "markdown",
   "metadata": {},
   "source": [
    "#### Dictionary"
   ]
  },
  {
   "cell_type": "code",
   "execution_count": 28,
   "metadata": {
    "collapsed": false
   },
   "outputs": [
    {
     "data": {
      "text/plain": [
       "1"
      ]
     },
     "execution_count": 28,
     "metadata": {},
     "output_type": "execute_result"
    }
   ],
   "source": [
    "# dictionaries are surrounded by {}\n",
    "# and associate a key with a value\n",
    "translation = {\"one\" : 1, \"two\" : 2}\n",
    "translation[\"one\"]"
   ]
  },
  {
   "cell_type": "code",
   "execution_count": 29,
   "metadata": {
    "collapsed": true
   },
   "outputs": [],
   "source": [
    "rev = {1 : \"one\", 2 : \"two\"}"
   ]
  },
  {
   "cell_type": "code",
   "execution_count": 30,
   "metadata": {
    "collapsed": false
   },
   "outputs": [
    {
     "data": {
      "text/plain": [
       "'one'"
      ]
     },
     "execution_count": 30,
     "metadata": {},
     "output_type": "execute_result"
    }
   ],
   "source": [
    "rev[1]"
   ]
  },
  {
   "cell_type": "code",
   "execution_count": 31,
   "metadata": {
    "collapsed": false
   },
   "outputs": [
    {
     "data": {
      "text/plain": [
       "{1: 'one', 2: 'two', 3: 'three'}"
      ]
     },
     "execution_count": 31,
     "metadata": {},
     "output_type": "execute_result"
    }
   ],
   "source": [
    "rev[3] = \"three\"\n",
    "rev"
   ]
  },
  {
   "cell_type": "markdown",
   "metadata": {},
   "source": [
    "#### \\~\\~Challenge\\~\\~\n",
    "1. Create a dictionary matching each nucleotide with its complement.\n",
    "2. Now evaluate what the complement of the 3rd nucleotide of the following sequencing is: `ACTGCGTTTAC`."
   ]
  },
  {
   "cell_type": "code",
   "execution_count": 86,
   "metadata": {
    "collapsed": false
   },
   "outputs": [
    {
     "data": {
      "text/plain": [
       "'A'"
      ]
     },
     "execution_count": 86,
     "metadata": {},
     "output_type": "execute_result"
    }
   ],
   "source": [
    "dna_complement = {'A' : 'T', 'C' : 'G', 'G' : 'C', 'T' : 'A'}\n",
    "dna_complement['ACTGCGTTTAC'[2]]"
   ]
  },
  {
   "cell_type": "markdown",
   "metadata": {},
   "source": [
    "## Working with Data in `Pandas`\n",
    "\n",
    "- Working with data stored as a DataFrame\n",
    "- Easiest and most popular way to manipulate tabular data is using `Pandas`\n",
    "- `Pandas` is specialized toolkit\n",
    "- Needs to be access or `import` these types of tools"
   ]
  },
  {
   "cell_type": "code",
   "execution_count": 32,
   "metadata": {
    "collapsed": true
   },
   "outputs": [],
   "source": [
    "import pandas"
   ]
  },
  {
   "cell_type": "code",
   "execution_count": 33,
   "metadata": {
    "collapsed": false,
    "scrolled": true
   },
   "outputs": [
    {
     "name": "stdout",
     "output_type": "stream",
     "text": [
      "Help on package pandas:\n",
      "\n",
      "NAME\n",
      "    pandas\n",
      "\n",
      "DESCRIPTION\n",
      "    pandas - a powerful data analysis and manipulation library for Python\n",
      "    =====================================================================\n",
      "    \n",
      "    See http://pandas.pydata.org/ for full documentation. Otherwise, see the\n",
      "    docstrings of the various objects in the pandas namespace:\n",
      "    \n",
      "    Series\n",
      "    DataFrame\n",
      "    Panel\n",
      "    Index\n",
      "    DatetimeIndex\n",
      "    HDFStore\n",
      "    bdate_range\n",
      "    date_range\n",
      "    read_csv\n",
      "    read_fwf\n",
      "    read_table\n",
      "    ols\n",
      "\n",
      "PACKAGE CONTENTS\n",
      "    _period\n",
      "    _sparse\n",
      "    _testing\n",
      "    _version\n",
      "    algos\n",
      "    compat (package)\n",
      "    computation (package)\n",
      "    core (package)\n",
      "    formats (package)\n",
      "    hashtable\n",
      "    index\n",
      "    indexes (package)\n",
      "    info\n",
      "    io (package)\n",
      "    json\n",
      "    lib\n",
      "    msgpack (package)\n",
      "    parser\n",
      "    rpy (package)\n",
      "    sandbox (package)\n",
      "    sparse (package)\n",
      "    stats (package)\n",
      "    tests (package)\n",
      "    tools (package)\n",
      "    tseries (package)\n",
      "    tslib\n",
      "    types (package)\n",
      "    util (package)\n",
      "\n",
      "SUBMODULES\n",
      "    datetools\n",
      "    offsets\n",
      "\n",
      "DATA\n",
      "    IndexSlice = <pandas.core.indexing._IndexSlice object>\n",
      "    NaT = NaT\n",
      "    __docformat__ = 'restructuredtext'\n",
      "    dependency = 'dateutil'\n",
      "    describe_option = <pandas.core.config.CallableDynamicDoc object>\n",
      "    get_option = <pandas.core.config.CallableDynamicDoc object>\n",
      "    hard_dependencies = ('numpy', 'pytz', 'dateutil')\n",
      "    missing_dependencies = []\n",
      "    options = <pandas.core.config.DictWrapper object>\n",
      "    plot_params = {'xaxis.compat': False}\n",
      "    reset_option = <pandas.core.config.CallableDynamicDoc object>\n",
      "    set_option = <pandas.core.config.CallableDynamicDoc object>\n",
      "\n",
      "VERSION\n",
      "    0.18.1\n",
      "\n",
      "FILE\n",
      "    /Users/darencard/anaconda3/lib/python3.5/site-packages/pandas/__init__.py\n",
      "\n",
      "\n"
     ]
    }
   ],
   "source": [
    "# again, we can access help\n",
    "help(pandas)"
   ]
  },
  {
   "cell_type": "code",
   "execution_count": 35,
   "metadata": {
    "collapsed": false
   },
   "outputs": [
    {
     "data": {
      "text/plain": [
       "['Categorical',\n",
       " 'CategoricalIndex',\n",
       " 'DataFrame',\n",
       " 'DateOffset',\n",
       " 'DatetimeIndex',\n",
       " 'ExcelFile',\n",
       " 'ExcelWriter',\n",
       " 'Expr',\n",
       " 'Float64Index',\n",
       " 'Grouper',\n",
       " 'HDFStore',\n",
       " 'Index',\n",
       " 'IndexSlice',\n",
       " 'Int64Index',\n",
       " 'MultiIndex',\n",
       " 'NaT',\n",
       " 'Panel',\n",
       " 'Panel4D',\n",
       " 'Period',\n",
       " 'PeriodIndex',\n",
       " 'RangeIndex',\n",
       " 'Series',\n",
       " 'SparseArray',\n",
       " 'SparseDataFrame',\n",
       " 'SparseList',\n",
       " 'SparsePanel',\n",
       " 'SparseSeries',\n",
       " 'SparseTimeSeries',\n",
       " 'Term',\n",
       " 'TimeGrouper',\n",
       " 'TimeSeries',\n",
       " 'Timedelta',\n",
       " 'TimedeltaIndex',\n",
       " 'Timestamp',\n",
       " 'WidePanel',\n",
       " '__builtins__',\n",
       " '__cached__',\n",
       " '__doc__',\n",
       " '__docformat__',\n",
       " '__file__',\n",
       " '__loader__',\n",
       " '__name__',\n",
       " '__package__',\n",
       " '__path__',\n",
       " '__spec__',\n",
       " '__version__',\n",
       " '_np_version_under1p10',\n",
       " '_np_version_under1p11',\n",
       " '_np_version_under1p12',\n",
       " '_np_version_under1p8',\n",
       " '_np_version_under1p9',\n",
       " '_period',\n",
       " '_sparse',\n",
       " '_testing',\n",
       " '_version',\n",
       " 'algos',\n",
       " 'bdate_range',\n",
       " 'compat',\n",
       " 'computation',\n",
       " 'concat',\n",
       " 'core',\n",
       " 'crosstab',\n",
       " 'cut',\n",
       " 'date_range',\n",
       " 'datetime',\n",
       " 'datetools',\n",
       " 'dependency',\n",
       " 'describe_option',\n",
       " 'eval',\n",
       " 'ewma',\n",
       " 'ewmcorr',\n",
       " 'ewmcov',\n",
       " 'ewmstd',\n",
       " 'ewmvar',\n",
       " 'ewmvol',\n",
       " 'expanding_apply',\n",
       " 'expanding_corr',\n",
       " 'expanding_count',\n",
       " 'expanding_cov',\n",
       " 'expanding_kurt',\n",
       " 'expanding_max',\n",
       " 'expanding_mean',\n",
       " 'expanding_median',\n",
       " 'expanding_min',\n",
       " 'expanding_quantile',\n",
       " 'expanding_skew',\n",
       " 'expanding_std',\n",
       " 'expanding_sum',\n",
       " 'expanding_var',\n",
       " 'factorize',\n",
       " 'fama_macbeth',\n",
       " 'formats',\n",
       " 'get_dummies',\n",
       " 'get_option',\n",
       " 'get_store',\n",
       " 'groupby',\n",
       " 'hard_dependencies',\n",
       " 'hashtable',\n",
       " 'index',\n",
       " 'indexes',\n",
       " 'infer_freq',\n",
       " 'info',\n",
       " 'io',\n",
       " 'isnull',\n",
       " 'json',\n",
       " 'lib',\n",
       " 'lreshape',\n",
       " 'match',\n",
       " 'melt',\n",
       " 'merge',\n",
       " 'missing_dependencies',\n",
       " 'msgpack',\n",
       " 'notnull',\n",
       " 'np',\n",
       " 'offsets',\n",
       " 'ols',\n",
       " 'option_context',\n",
       " 'options',\n",
       " 'ordered_merge',\n",
       " 'pandas',\n",
       " 'parser',\n",
       " 'period_range',\n",
       " 'pivot',\n",
       " 'pivot_table',\n",
       " 'plot_params',\n",
       " 'pnow',\n",
       " 'qcut',\n",
       " 'read_clipboard',\n",
       " 'read_csv',\n",
       " 'read_excel',\n",
       " 'read_fwf',\n",
       " 'read_gbq',\n",
       " 'read_hdf',\n",
       " 'read_html',\n",
       " 'read_json',\n",
       " 'read_msgpack',\n",
       " 'read_pickle',\n",
       " 'read_sas',\n",
       " 'read_sql',\n",
       " 'read_sql_query',\n",
       " 'read_sql_table',\n",
       " 'read_stata',\n",
       " 'read_table',\n",
       " 'reset_option',\n",
       " 'rolling_apply',\n",
       " 'rolling_corr',\n",
       " 'rolling_count',\n",
       " 'rolling_cov',\n",
       " 'rolling_kurt',\n",
       " 'rolling_max',\n",
       " 'rolling_mean',\n",
       " 'rolling_median',\n",
       " 'rolling_min',\n",
       " 'rolling_quantile',\n",
       " 'rolling_skew',\n",
       " 'rolling_std',\n",
       " 'rolling_sum',\n",
       " 'rolling_var',\n",
       " 'rolling_window',\n",
       " 'scatter_matrix',\n",
       " 'set_eng_float_format',\n",
       " 'set_option',\n",
       " 'show_versions',\n",
       " 'sparse',\n",
       " 'stats',\n",
       " 'test',\n",
       " 'timedelta_range',\n",
       " 'to_datetime',\n",
       " 'to_msgpack',\n",
       " 'to_numeric',\n",
       " 'to_pickle',\n",
       " 'to_timedelta',\n",
       " 'tools',\n",
       " 'tseries',\n",
       " 'tslib',\n",
       " 'types',\n",
       " 'unique',\n",
       " 'util',\n",
       " 'value_counts',\n",
       " 'wide_to_long']"
      ]
     },
     "execution_count": 35,
     "metadata": {},
     "output_type": "execute_result"
    }
   ],
   "source": [
    "# or see a list of operations that can be used\n",
    "dir(pandas)"
   ]
  },
  {
   "cell_type": "code",
   "execution_count": 37,
   "metadata": {
    "collapsed": false
   },
   "outputs": [],
   "source": [
    "# read data in from our txt file\n",
    "human_chr21 = pandas.read_csv(\"human_chr21.txt\", sep=\"\\t\")"
   ]
  },
  {
   "cell_type": "code",
   "execution_count": 38,
   "metadata": {
    "collapsed": false,
    "scrolled": true
   },
   "outputs": [
    {
     "name": "stdout",
     "output_type": "stream",
     "text": [
      "   chromosome  win_start   win_end  n_bases  gc_bases  exon_bases  \\\n",
      "0       chr21          0   2335499  2335499         0         NaN   \n",
      "1       chr21    2335499   4670998  2335499         0         NaN   \n",
      "2       chr21    4670998   7006497   889002    648702    253805.0   \n",
      "3       chr21    7006497   9341996   600001    729820    154932.0   \n",
      "4       chr21    9341996  11677495   350800    778829     41904.0   \n",
      "5       chr21   11677495  14012994    50400    889396     12672.0   \n",
      "6       chr21   14012994  16348493        0    867338    270654.0   \n",
      "7       chr21   16348493  18683992        0    867175    190141.0   \n",
      "8       chr21   18683992  21019491        0    822404     11697.0   \n",
      "9       chr21   21019491  23354990        0    809656     86625.0   \n",
      "10      chr21   23354990  25690489        0    839298     55946.0   \n",
      "11      chr21   25690489  28025988        0    880857    254203.0   \n",
      "12      chr21   28025988  30361487        0    890511    197183.0   \n",
      "13      chr21   30361487  32696986       30    979741    339787.0   \n",
      "14      chr21   32696986  35032485        0   1016543    668592.0   \n",
      "15      chr21   35032485  37367984        0   1009754    530783.0   \n",
      "16      chr21   37367984  39703483       10    995639    641001.0   \n",
      "17      chr21   39703483  42038982      103   1029888    489845.0   \n",
      "18      chr21   42038982  44374481    50020   1172446    909833.0   \n",
      "19      chr21   44374481  46709983    10000   1183628   1041644.0   \n",
      "\n",
      "    simple_rep_bases  complex_rep_bases  \n",
      "0                NaN                NaN  \n",
      "1                NaN                NaN  \n",
      "2           154999.0           631392.0  \n",
      "3           345062.0           740985.0  \n",
      "4          1617305.0           497476.0  \n",
      "5          1836309.0           508445.0  \n",
      "6            41741.0          1048889.0  \n",
      "7            29885.0          1194210.0  \n",
      "8            43919.0          1151173.0  \n",
      "9            45584.0          1142404.0  \n",
      "10           41427.0          1128161.0  \n",
      "11           33249.0          1091910.0  \n",
      "12           36281.0          1080532.0  \n",
      "13           42324.0          1105190.0  \n",
      "14           33233.0          1036531.0  \n",
      "15           33519.0          1093246.0  \n",
      "16           39385.0          1038114.0  \n",
      "17           49423.0          1009580.0  \n",
      "18           58130.0           913144.0  \n",
      "19           54193.0           937997.0  \n"
     ]
    }
   ],
   "source": [
    "# print contents of DataFrame\n",
    "print(human_chr21)"
   ]
  },
  {
   "cell_type": "markdown",
   "metadata": {},
   "source": [
    "Note: notice the `NaN` encoding missing data"
   ]
  },
  {
   "cell_type": "code",
   "execution_count": 39,
   "metadata": {
    "collapsed": false
   },
   "outputs": [
    {
     "data": {
      "text/plain": [
       "pandas.core.frame.DataFrame"
      ]
     },
     "execution_count": 39,
     "metadata": {},
     "output_type": "execute_result"
    }
   ],
   "source": [
    "# make sure we are looking at DataFrame\n",
    "type(human_chr21)"
   ]
  },
  {
   "cell_type": "code",
   "execution_count": 40,
   "metadata": {
    "collapsed": false
   },
   "outputs": [
    {
     "data": {
      "text/plain": [
       "chromosome            object\n",
       "win_start              int64\n",
       "win_end                int64\n",
       "n_bases                int64\n",
       "gc_bases               int64\n",
       "exon_bases           float64\n",
       "simple_rep_bases     float64\n",
       "complex_rep_bases    float64\n",
       "dtype: object"
      ]
     },
     "execution_count": 40,
     "metadata": {},
     "output_type": "execute_result"
    }
   ],
   "source": [
    "# what if we want to know what types of values are stored in our DataFrame\n",
    "human_chr21.dtypes"
   ]
  },
  {
   "cell_type": "code",
   "execution_count": 41,
   "metadata": {
    "collapsed": false
   },
   "outputs": [
    {
     "data": {
      "text/plain": [
       "array(['chromosome', 'win_start', 'win_end', 'n_bases', 'gc_bases',\n",
       "       'exon_bases', 'simple_rep_bases', 'complex_rep_bases'], dtype=object)"
      ]
     },
     "execution_count": 41,
     "metadata": {},
     "output_type": "execute_result"
    }
   ],
   "source": [
    "# or what information each column encodes\n",
    "human_chr21.columns.values"
   ]
  },
  {
   "cell_type": "code",
   "execution_count": 42,
   "metadata": {
    "collapsed": false
   },
   "outputs": [
    {
     "data": {
      "text/plain": [
       "array([       0,  2335499,  4670998,  7006497,  9341996, 11677495,\n",
       "       14012994, 16348493, 18683992, 21019491, 23354990, 25690489,\n",
       "       28025988, 30361487, 32696986, 35032485, 37367984, 39703483,\n",
       "       42038982, 44374481])"
      ]
     },
     "execution_count": 42,
     "metadata": {},
     "output_type": "execute_result"
    }
   ],
   "source": [
    "# or the unique composition of a column\n",
    "pandas.unique(human_chr21['win_start'])"
   ]
  },
  {
   "cell_type": "code",
   "execution_count": 45,
   "metadata": {
    "collapsed": false,
    "scrolled": true
   },
   "outputs": [
    {
     "data": {
      "text/plain": [
       "0           NaN\n",
       "1           NaN\n",
       "2      253805.0\n",
       "3      154932.0\n",
       "4       41904.0\n",
       "5       12672.0\n",
       "6      270654.0\n",
       "7      190141.0\n",
       "8       11697.0\n",
       "9       86625.0\n",
       "10      55946.0\n",
       "11     254203.0\n",
       "12     197183.0\n",
       "13     339787.0\n",
       "14     668592.0\n",
       "15     530783.0\n",
       "16     641001.0\n",
       "17     489845.0\n",
       "18     909833.0\n",
       "19    1041644.0\n",
       "Name: exon_bases, dtype: float64"
      ]
     },
     "execution_count": 45,
     "metadata": {},
     "output_type": "execute_result"
    }
   ],
   "source": [
    "# or just print the contents of a column as a new DataFrame\n",
    "human_chr21['exon_bases']"
   ]
  },
  {
   "cell_type": "code",
   "execution_count": 46,
   "metadata": {
    "collapsed": false
   },
   "outputs": [
    {
     "data": {
      "text/plain": [
       "2      253805.0\n",
       "3      154932.0\n",
       "4       41904.0\n",
       "5       12672.0\n",
       "6      270654.0\n",
       "7      190141.0\n",
       "8       11697.0\n",
       "9       86625.0\n",
       "10      55946.0\n",
       "11     254203.0\n",
       "12     197183.0\n",
       "13     339787.0\n",
       "14     668592.0\n",
       "15     530783.0\n",
       "16     641001.0\n",
       "17     489845.0\n",
       "18     909833.0\n",
       "19    1041644.0\n",
       "Name: exon_bases, dtype: float64"
      ]
     },
     "execution_count": 46,
     "metadata": {},
     "output_type": "execute_result"
    }
   ],
   "source": [
    "# oops... we have some missing values, let's drop those\n",
    "human_chr21['exon_bases'].dropna()"
   ]
  },
  {
   "cell_type": "code",
   "execution_count": null,
   "metadata": {
    "collapsed": true
   },
   "outputs": [],
   "source": [
    "# what we normally want to know is something about the data itself\n",
    "# we can get a quick summary\n",
    "human_chr21['gc_bases'].describe()"
   ]
  },
  {
   "cell_type": "code",
   "execution_count": 44,
   "metadata": {
    "collapsed": false
   },
   "outputs": [
    {
     "data": {
      "text/plain": [
       "0      0.000000\n",
       "1      2.335499\n",
       "2      4.670998\n",
       "3      7.006497\n",
       "4      9.341996\n",
       "5     11.677495\n",
       "6     14.012994\n",
       "7     16.348493\n",
       "8     18.683992\n",
       "9     21.019491\n",
       "10    23.354990\n",
       "11    25.690489\n",
       "12    28.025988\n",
       "13    30.361487\n",
       "14    32.696986\n",
       "15    35.032485\n",
       "16    37.367984\n",
       "17    39.703483\n",
       "18    42.038982\n",
       "19    44.374481\n",
       "Name: win_start, dtype: float64"
      ]
     },
     "execution_count": 44,
     "metadata": {},
     "output_type": "execute_result"
    }
   ],
   "source": [
    "# we can also process a dataframe and use columns to derive new information\n",
    "# let's translate the window start from bp to Mbp.\n",
    "human_chr21['win_start']/1000000"
   ]
  },
  {
   "cell_type": "markdown",
   "metadata": {},
   "source": [
    "#### \\~\\~Challenge\\~\\~\n",
    "Right now, values for GC content, gene content, etc. are reported as the number of bases within a given window. For each column, translate these absolute numbers into proportions, out of the total window size. Store these values as new columns in the DataFrame, with appropriate names."
   ]
  },
  {
   "cell_type": "code",
   "execution_count": 102,
   "metadata": {
    "collapsed": false
   },
   "outputs": [
    {
     "data": {
      "text/plain": [
       "0     0.000000\n",
       "1     0.000000\n",
       "2     0.277757\n",
       "3     0.312490\n",
       "4     0.333474\n",
       "5     0.380816\n",
       "6     0.371372\n",
       "7     0.371302\n",
       "8     0.352132\n",
       "9     0.346674\n",
       "10    0.359366\n",
       "11    0.377160\n",
       "12    0.381294\n",
       "13    0.419500\n",
       "14    0.435257\n",
       "15    0.432350\n",
       "16    0.426307\n",
       "17    0.440971\n",
       "18    0.502011\n",
       "19    0.506798\n",
       "dtype: float64"
      ]
     },
     "execution_count": 102,
     "metadata": {},
     "output_type": "execute_result"
    }
   ],
   "source": [
    "# example with GC content\n",
    "human_chr21['window_size'] = human_chr21['win_end'] - human_chr21['win_start']\n",
    "human_chr21['gc_bases'] / human_chr21['window_size']"
   ]
  },
  {
   "cell_type": "code",
   "execution_count": null,
   "metadata": {
    "collapsed": true
   },
   "outputs": [],
   "source": [
    "# you may want to write your dataset out to a file for later\n",
    "# so you don't have to do these calculations again\n",
    "# as tab-delimited txt\n",
    "human_chr21.to_csv(human_chr21_out.txt, sep='\\t')\n",
    "# or as comma-separated values\n",
    "human_chr21.to_csv(human_chr21_out.csv, sep=',')"
   ]
  },
  {
   "cell_type": "markdown",
   "metadata": {},
   "source": [
    "## Plotting Data using `matplotlib`\n",
    "\n",
    "- remember we must first import the library\n",
    "- notice how we are setting a variable name for the library, to make it easier to call with each command"
   ]
  },
  {
   "cell_type": "code",
   "execution_count": 60,
   "metadata": {
    "collapsed": true
   },
   "outputs": [],
   "source": [
    "import matplotlib.pyplot as plt\n",
    "# issue following for in-line plotting (if not automatic)\n",
    "%matplotlib inline "
   ]
  },
  {
   "cell_type": "code",
   "execution_count": 53,
   "metadata": {
    "collapsed": false
   },
   "outputs": [
    {
     "data": {
      "image/png": "[encoded data removed]",
      "text/plain": [
       "<matplotlib.figure.Figure at 0x11512eac8>"
      ]
     },
     "metadata": {},
     "output_type": "display_data"
    }
   ],
   "source": [
    "# let's create a boxplot of our GC content\n",
    "human_chr21['gc_content'] = human_chr21['gc_bases']/\\\n",
    "    (human_chr21['win_end'] - human_chr21['win_start'])\n",
    "plt.boxplot(human_chr21['gc_content'])\n",
    "plt.show()"
   ]
  },
  {
   "cell_type": "code",
   "execution_count": 55,
   "metadata": {
    "collapsed": false
   },
   "outputs": [
    {
     "data": {
      "image/png": "[encoded data removed]",
      "text/plain": [
       "<matplotlib.figure.Figure at 0x11512e5f8>"
      ]
     },
     "metadata": {},
     "output_type": "display_data"
    }
   ],
   "source": [
    "# that's a crappy plot, doesn't even show what we are plotting\n",
    "plt.boxplot(human_chr21['gc_content'], labels=[\"GC Content\"])\n",
    "plt.show()"
   ]
  },
  {
   "cell_type": "markdown",
   "metadata": {},
   "source": [
    "#### \\~\\~Challenge\\~\\~\n",
    "Create a new boxplot with gene content and total repeat content proportions plotted alongside existing GC content. Make sure each is labeled!"
   ]
  },
  {
   "cell_type": "code",
   "execution_count": 97,
   "metadata": {
    "collapsed": false
   },
   "outputs": [
    {
     "data": {
      "image/png": "[encoded data removed]",
      "text/plain": [
       "<matplotlib.figure.Figure at 0x11a857240>"
      ]
     },
     "metadata": {},
     "output_type": "display_data"
    }
   ],
   "source": [
    "human_chr21['gc_content'] = human_chr21['gc_bases']/\\\n",
    "    (human_chr21['win_end'] - human_chr21['win_start'])\n",
    "human_chr21['gene_content'] = human_chr21['exon_bases']/\\\n",
    "    (human_chr21['win_end'] - human_chr21['win_start'])\n",
    "human_chr21['tot_rep_content'] = (human_chr21['complex_rep_bases'] + human_chr21['simple_rep_bases'])/\\\n",
    "    (human_chr21['win_end'] - human_chr21['win_start'])\n",
    "subset_for_plotting = [human_chr21['gc_content'].dropna(), \\\n",
    "                       human_chr21['gene_content'].dropna(), \\\n",
    "                       human_chr21['tot_rep_content'].dropna()]\n",
    "plt.boxplot(subset_for_plotting, \\\n",
    "            labels=['GC Content', 'Gene Content', 'Total Repeat Content'])\n",
    "plt.show()"
   ]
  },
  {
   "cell_type": "code",
   "execution_count": 57,
   "metadata": {
    "collapsed": false
   },
   "outputs": [
    {
     "data": {
      "image/png": "[encoded data removed]",
      "text/plain": [
       "<matplotlib.figure.Figure at 0x11512e278>"
      ]
     },
     "metadata": {},
     "output_type": "display_data"
    }
   ],
   "source": [
    "# how about a histogram instead\n",
    "plt.hist(human_chr21['gc_content'])\n",
    "plt.show()"
   ]
  },
  {
   "cell_type": "code",
   "execution_count": 59,
   "metadata": {
    "collapsed": false,
    "scrolled": true
   },
   "outputs": [
    {
     "data": {
      "image/png": "[encoded data removed]",
      "text/plain": [
       "<matplotlib.figure.Figure at 0x117a635c0>"
      ]
     },
     "metadata": {},
     "output_type": "display_data"
    }
   ],
   "source": [
    "# or to create more bins\n",
    "plt.hist(human_chr21['gc_content'], bins=20)\n",
    "plt.show()"
   ]
  },
  {
   "cell_type": "code",
   "execution_count": 61,
   "metadata": {
    "collapsed": false
   },
   "outputs": [
    {
     "data": {
      "text/plain": [
       "0          NaN\n",
       "1          NaN\n",
       "2     0.108673\n",
       "3     0.066338\n",
       "4     0.017942\n",
       "5     0.005426\n",
       "6     0.115887\n",
       "7     0.081413\n",
       "8     0.005008\n",
       "9     0.037091\n",
       "10    0.023955\n",
       "11    0.108843\n",
       "12    0.084429\n",
       "13    0.145488\n",
       "14    0.286274\n",
       "15    0.227267\n",
       "16    0.274460\n",
       "17    0.209739\n",
       "18    0.389567\n",
       "19    0.446004\n",
       "Name: gene_content, dtype: float64"
      ]
     },
     "execution_count": 61,
     "metadata": {},
     "output_type": "execute_result"
    }
   ],
   "source": [
    "# what if we want to compare GC to another variable\n",
    "# gc content vs. gene content\n",
    "# first need to calculate gene content\n",
    "human_chr21['gene_content'] = human_chr21['exon_bases']/\\\n",
    "(human_chr21['win_end']-human_chr21['win_start'])\n",
    "human_chr21['gene_content']"
   ]
  },
  {
   "cell_type": "code",
   "execution_count": 64,
   "metadata": {
    "collapsed": false
   },
   "outputs": [
    {
     "data": {
      "text/plain": [
       "[<matplotlib.lines.Line2D at 0x117cc9a58>]"
      ]
     },
     "execution_count": 64,
     "metadata": {},
     "output_type": "execute_result"
    },
    {
     "data": {
      "image/png": "[encoded data removed]",
      "text/plain": [
       "<matplotlib.figure.Figure at 0x117c0acf8>"
      ]
     },
     "metadata": {},
     "output_type": "display_data"
    }
   ],
   "source": [
    "# now we can plot, using 'o' to create a scatter plot of points\n",
    "plt.plot(human_chr21['gene_content'], human_chr21['gc_content'], 'o')"
   ]
  },
  {
   "cell_type": "code",
   "execution_count": 65,
   "metadata": {
    "collapsed": false
   },
   "outputs": [
    {
     "data": {
      "text/plain": [
       "<matplotlib.text.Text at 0x117ee54e0>"
      ]
     },
     "execution_count": 65,
     "metadata": {},
     "output_type": "execute_result"
    },
    {
     "data": {
      "image/png": "[encoded data removed]",
      "text/plain": [
       "<matplotlib.figure.Figure at 0x117ebef98>"
      ]
     },
     "metadata": {},
     "output_type": "display_data"
    }
   ],
   "source": [
    "# awesome, but what are each of the axes?\n",
    "plt.plot(human_chr21['gene_content'], human_chr21['gc_content'], 'o')\n",
    "plt.xlabel('Gene Content')\n",
    "plt.ylabel('GC Content')\n",
    "plt.title('Are genes more GC rich?')"
   ]
  },
  {
   "cell_type": "code",
   "execution_count": null,
   "metadata": {
    "collapsed": true
   },
   "outputs": [],
   "source": [
    "# what if we want to save to file instead?\n",
    "# Python automatically interprets file extension to create proper file type\n",
    "# can vary extension to get desired format\n",
    "# here it is as a PNG file\n",
    "plt.savefig('gene_vs_gc.png')\n",
    "# can also pass explicitely as argument\n",
    "plt.savefig('gene_vs_gc.png', format='png')"
   ]
  },
  {
   "cell_type": "code",
   "execution_count": 67,
   "metadata": {
    "collapsed": false
   },
   "outputs": [
    {
     "name": "stdout",
     "output_type": "stream",
     "text": [
      "                            OLS Regression Results                            \n",
      "==============================================================================\n",
      "Dep. Variable:             gc_content   R-squared:                       0.726\n",
      "Model:                            OLS   Adj. R-squared:                  0.708\n",
      "Method:                 Least Squares   F-statistic:                     42.32\n",
      "Date:                Thu, 08 Dec 2016   Prob (F-statistic):           7.25e-06\n",
      "Time:                        18:07:07   Log-Likelihood:                 37.155\n",
      "No. Observations:                  18   AIC:                            -70.31\n",
      "Df Residuals:                      16   BIC:                            -68.53\n",
      "Df Model:                           1                                         \n",
      "Covariance Type:            nonrobust                                         \n",
      "================================================================================\n",
      "                   coef    std err          t      P>|t|      [95.0% Conf. Int.]\n",
      "--------------------------------------------------------------------------------\n",
      "Intercept        0.3335      0.012     28.653      0.000         0.309     0.358\n",
      "gene_content     0.3889      0.060      6.505      0.000         0.262     0.516\n",
      "==============================================================================\n",
      "Omnibus:                       17.316   Durbin-Watson:                   0.925\n",
      "Prob(Omnibus):                  0.000   Jarque-Bera (JB):               17.553\n",
      "Skew:                          -1.713   Prob(JB):                     0.000154\n",
      "Kurtosis:                       6.415   Cond. No.                         7.95\n",
      "==============================================================================\n",
      "\n",
      "Warnings:\n",
      "[1] Standard Errors assume that the covariance matrix of the errors is correctly specified.\n"
     ]
    },
    {
     "name": "stderr",
     "output_type": "stream",
     "text": [
      "/Users/darencard/anaconda3/lib/python3.5/site-packages/scipy/stats/stats.py:1327: UserWarning: kurtosistest only valid for n>=20 ... continuing anyway, n=18\n",
      "  \"anyway, n=%i\" % int(n))\n"
     ]
    }
   ],
   "source": [
    "# Awesome! looks like the two are correlated. \n",
    "# Would be nice to have a statistic to back that up\n",
    "# must import new library\n",
    "import statsmodels.formula.api as smf\n",
    "# now can fit linear model and look at summary\n",
    "lm = smf.ols(formula='gc_content ~ gene_content', data=human_chr21).fit()\n",
    "print(lm.summary())"
   ]
  },
  {
   "cell_type": "code",
   "execution_count": 68,
   "metadata": {
    "collapsed": false
   },
   "outputs": [
    {
     "data": {
      "image/png": "[encoded data removed]",
      "text/plain": [
       "<matplotlib.figure.Figure at 0x11a08ee10>"
      ]
     },
     "metadata": {},
     "output_type": "display_data"
    }
   ],
   "source": [
    "# ignore warning right now\n",
    "# looks like there is significant correlation. Any guess why???\n",
    "# Let's plot the best-fit line\n",
    "plt.plot(human_chr21['gene_content'], human_chr21['gc_content'], 'ok')\n",
    "plt.plot(human_chr21['gene_content'].dropna(), lm.fittedvalues, 'r')\n",
    "plt.xlabel('Gene Content')\n",
    "plt.ylabel('GC Content')\n",
    "plt.title('Are genes more GC rich?')\n",
    "plt.show()"
   ]
  },
  {
   "cell_type": "markdown",
   "metadata": {},
   "source": [
    "#### \\~\\~Challenge\\~\\~\n",
    "Play around with plotting for a few minutes. See if you can:\n",
    "1. Change the axes labels and main title\n",
    "2. Change the best-fit line to different colors or line types\n",
    "3. Change the points to different colors or shapes\n",
    "4. Add a legend in top left and bottom right portion of plot"
   ]
  },
  {
   "cell_type": "code",
   "execution_count": 99,
   "metadata": {
    "collapsed": false
   },
   "outputs": [
    {
     "data": {
      "image/png": "[encoded data removed]",
      "text/plain": [
       "<matplotlib.figure.Figure at 0x11a99f5f8>"
      ]
     },
     "metadata": {},
     "output_type": "display_data"
    }
   ],
   "source": [
    "# see `help(plt.plot) for lots of options\n",
    "plt.plot(human_chr21['gene_content'], human_chr21['gc_content'], 'ok')\n",
    "plt.plot(human_chr21['gene_content'].dropna(), lm.fittedvalues, 'r')\n",
    "plt.xlabel('Gene Content')\n",
    "plt.ylabel('GC Content')\n",
    "plt.title('Are genes more GC rich?')\n",
    "plt.show()"
   ]
  },
  {
   "cell_type": "markdown",
   "metadata": {},
   "source": [
    "## Building a Python Script\n",
    "- so far using Python as interactive calculator\n",
    "- but what if we want to automate an analysis\n",
    "- need what is called a 'script'\n",
    "- let's do this in a new Jupyter Notebook, saving existing one as `day1_python_intro`\n",
    "- save new notebook as `gc_repeat_plot`"
   ]
  },
  {
   "cell_type": "markdown",
   "metadata": {},
   "source": [
    "#### \\~\\~Challenge\\~\\~\n",
    "Create a clean script that allows you to: (1) import `human_chr21.txt`, (2) calculate GC content and complex repeat content (storing as new columns to DataFrame, (3) calculate the linear model between these two measures, and (4) plot the relationship as a scatter plot with a best-fit line. Be sure to use appropriate comments throughout to explain what you are doing.\n",
    "\n",
    "#### Inflexible script - only works on one dataset"
   ]
  },
  {
   "cell_type": "code",
   "execution_count": null,
   "metadata": {
    "collapsed": true
   },
   "outputs": [],
   "source": [
    "# import library\n",
    "import pandas as pd\n",
    "import matplotlib.pyplot as plt\n",
    "import statsmodels.formula.api as smf\n",
    "\n",
    "# read data from our txt file\n",
    "human_chr21 = pd.read_csv(\"human_chr21.txt\", sep='\\t')\n",
    "\n",
    "# calculate GC content per window\n",
    "human_chr21['gc_content'] = human_chr21['gc_bases'] / \\\n",
    "(human_chr21['win_end'] - human_chr21['win_start'])\n",
    "\n",
    "# calculate complex repeat content per window\n",
    "human_chr21['repeat_content'] = human_chr21['complex_rep_bases'] / \\\n",
    "(human_chr21['win_end'] - human_chr21['win_start'])\n",
    "\n",
    "# calculate the linear model\n",
    "lm = smf.ols(formula='gc_content ~ repeat_content', data=human_chr21).fit()\n",
    "\n",
    "# plot the result, saving to appropriate file\n",
    "plt.plot(repeat_content, gc_content, 'o')\n",
    "plt.xlabel('Proportion Repeat Content')\n",
    "plt.ylabel('Proportion GC Content')\n",
    "plt.title('Are repetitive regions GC rich?')\n",
    "plt.savefig('repeats_vs_gc.png')"
   ]
  },
  {
   "cell_type": "markdown",
   "metadata": {},
   "source": [
    "- Want to make a script that is more flexible and modular\n",
    "- Can modify existing one to work on any input data frame, comparing GC content and repeat content\n",
    "- Need to have user pass the input file name to script\n",
    "- Use `sys` library"
   ]
  },
  {
   "cell_type": "code",
   "execution_count": 69,
   "metadata": {
    "collapsed": true
   },
   "outputs": [],
   "source": [
    "import sys"
   ]
  },
  {
   "cell_type": "code",
   "execution_count": null,
   "metadata": {
    "collapsed": true
   },
   "outputs": [],
   "source": [
    "# sys allows script to read in arguments from user\n",
    "# first argument\n",
    "sys.argv[1]\n",
    "# second argument\n",
    "sys.argv[2]\n",
    "# but why didn't we start at 0???"
   ]
  },
  {
   "cell_type": "markdown",
   "metadata": {},
   "source": [
    "Need to alter following areas of script:\n",
    "1. `pd.read_csv(sys.argv[1], sep=\"\\t\")`\n",
    "2. `plt.savefig(''.join([sys.argv[1],'.png'])`\n",
    "3. should also probably update variable names"
   ]
  },
  {
   "cell_type": "markdown",
   "metadata": {},
   "source": [
    "#### Flexible script"
   ]
  },
  {
   "cell_type": "code",
   "execution_count": null,
   "metadata": {
    "collapsed": true
   },
   "outputs": [],
   "source": [
    "# import library\n",
    "import pandas as pd\n",
    "import matplotlib.pyplot as plt\n",
    "import statsmodels.formula.api as smf\n",
    "import sys\n",
    "\n",
    "# read data from our txt file\n",
    "chr_data = pd.read_csv(sys.argv[1], sep='\\t')\n",
    "print(sys.argv[1])\n",
    "\n",
    "# calculate GC content per window\n",
    "chr_data['gc_content'] = chr_data['gc_bases'] / \\\n",
    "(chr_data['win_end'] - chr_data['win_start'])\n",
    "\n",
    "# calculate complex repeat content per window\n",
    "chr_data['repeat_content'] = chr_data['complex_rep_bases'] / \\\n",
    "(chr_data['win_end'] - chr_data['win_start'])\n",
    "\n",
    "# calculate the linear model\n",
    "lm = smf.ols(formula='gc_content ~ repeat_content', data=chr_data).fit()\n",
    "\n",
    "# plot the result, saving to appropriate file\n",
    "plt.plot(chr_data['repeat_content'], chr_data['gc_content'], 'ok')\n",
    "plt.plot(chr_data['repeat_content'].dropna(), lm.fittedvalues, 'b')\n",
    "plt.xlabel('Proportion Repeat Content')\n",
    "plt.ylabel('Proportion GC Content')\n",
    "plt.title('Are repetitive regions GC rich?')\n",
    "plt.savefig(''.join([sys.argv[1], '.png']))"
   ]
  },
  {
   "cell_type": "markdown",
   "metadata": {},
   "source": [
    "- Save Jupyter notebook one last time\n",
    "- Jupyter notebook isn't in a plain text format that can be used as a script\n",
    "- Must download as a Python script\n",
    "- `File` -> `Download As` -> `Python (.py)`\n",
    "- Save into `~/Desktop/swc_dec2016`"
   ]
  },
  {
   "cell_type": "markdown",
   "metadata": {},
   "source": [
    "#### \\~\\~Challenge\\~\\~\n",
    "We've created a flexible script that will run on any properly formated dataset and output a plot of GC content vs. complex repeat content. Let's go a step further and make it more flexible by allowing any two measures to be compared. Have the output file named in a way that explains the two measures used."
   ]
  },
  {
   "cell_type": "code",
   "execution_count": null,
   "metadata": {
    "collapsed": true
   },
   "outputs": [],
   "source": [
    "# import library\n",
    "import pandas as pd\n",
    "import matplotlib.pyplot as plt\n",
    "import statsmodels.formula.api as smf\n",
    "import sys\n",
    "\n",
    "# read data from our txt file\n",
    "chr_data = pd.read_csv(sys.argv[1], sep='\\t')\n",
    "print(sys.argv[1])\n",
    "\n",
    "# calculate GC content per window\n",
    "chr_data['x_measure'] = chr_data[sys.argv[2]] / \\\n",
    "(chr_data['win_end'] - chr_data['win_start'])\n",
    "\n",
    "# calculate complex repeat content per window\n",
    "chr_data['y_measure'] = chr_data['sys.argv[3]'] / \\\n",
    "(chr_data['win_end'] - chr_data['win_start'])\n",
    "\n",
    "# calculate the linear model\n",
    "lm = smf.ols(formula='y_measure ~ x_measure', data=chr_data).fit()\n",
    "\n",
    "# plot the result, saving to appropriate file\n",
    "plt.plot(chr_data['x_measure'], chr_data['y_measure'], 'ok')\n",
    "plt.plot(chr_data['x_measure'].dropna(), lm.fittedvalues, 'b')\n",
    "plt.xlabel(sys.argv[2])\n",
    "plt.ylabel(sys.argv[3])\n",
    "plt.title(''.join([sys.argv[2],' vs. ',sys.argv[3]]))\n",
    "plt.savefig(''.join([sys.argv[1],'_',sys.argv[2],'-'sys.argv[3] '.png']))"
   ]
  }
 ],
 "metadata": {
  "kernelspec": {
   "display_name": "Python 3",
   "language": "python",
   "name": "python3"
  },
  "language_info": {
   "codemirror_mode": {
    "name": "ipython",
    "version": 3
   },
   "file_extension": ".py",
   "mimetype": "text/x-python",
   "name": "python",
   "nbconvert_exporter": "python",
   "pygments_lexer": "ipython3",
   "version": "3.5.2"
  }
 },
 "nbformat": 4,
 "nbformat_minor": 1
}
