{
 "cells": [
  {
   "cell_type": "code",
   "execution_count": 2,
   "metadata": {
    "collapsed": true
   },
   "outputs": [],
   "source": [
    "# import library\n",
    "import pandas as pd\n",
    "import matplotlib.pyplot as plt\n",
    "import sys"
   ]
  },
  {
   "cell_type": "code",
   "execution_count": 3,
   "metadata": {
    "collapsed": true
   },
   "outputs": [],
   "source": [
    "# read data from our txt file\n",
    "human_chr21 = pd.read_csv(sys.argv[1], sep='\\t')\n",
    "print(sys.argv[1])"
   ]
  },
  {
   "cell_type": "code",
   "execution_count": 5,
   "metadata": {
    "collapsed": true
   },
   "outputs": [],
   "source": [
    "# calculate GC content per window\n",
    "gc_content = human_chr21['gc_bases'] / (human_chr21['win_end'] - human_chr21['win_start'])"
   ]
  },
  {
   "cell_type": "code",
   "execution_count": 6,
   "metadata": {
    "collapsed": true
   },
   "outputs": [],
   "source": [
    "# calculate complex repeat content per window\n",
    "repeat_content = human_chr21['complex_rep_bases'] / (human_chr21['win_end'] - human_chr21['win_start'])"
   ]
  },
  {
   "cell_type": "code",
   "execution_count": 9,
   "metadata": {
    "collapsed": false
   },
   "outputs": [],
   "source": [
    "# plot the result, saving to appropriate file\n",
    "plt.plot(repeat_content, gc_content, 'o')\n",
    "plt.xlabel('Proportion Repeat Content')\n",
    "plt.ylabel('Proportion GC Content')\n",
    "plt.title('Are repetitive regions GC rich?')\n",
    "plt.savefig(''.join([sys.argv[1], '.png']))"
   ]
  }
 ],
 "metadata": {
  "kernelspec": {
   "display_name": "Python 3",
   "language": "python",
   "name": "python3"
  },
  "language_info": {
   "codemirror_mode": {
    "name": "ipython",
    "version": 3
   },
   "file_extension": ".py",
   "mimetype": "text/x-python",
   "name": "python",
   "nbconvert_exporter": "python",
   "pygments_lexer": "ipython3",
   "version": "3.5.2"
  }
 },
 "nbformat": 4,
 "nbformat_minor": 1
}
